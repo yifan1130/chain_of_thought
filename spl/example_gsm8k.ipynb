{
 "cells": [
  {
   "attachments": {},
   "cell_type": "markdown",
   "metadata": {},
   "source": [
    "# Tutorial about how to use CotHub Standard Prompt Library"
   ]
  },
  {
   "attachments": {},
   "cell_type": "markdown",
   "metadata": {},
   "source": [
    "Table of Contents\n",
    "\n",
    "OpenAI GPT Model Family \n",
    "* Chatbot Models\n",
    "    * Few-shot Chain-of-Thought \n",
    "    * Few-shot Direct Answering\n",
    "    * Zero-shot Chain-of-Thought\n",
    "    * Zero-shot Direct Answering\n",
    "* Completion Models\n",
    "    * Few-shot Chain-of-Thought\n",
    "    * Few-shot Direct Answering\n",
    "    * Zero-shot Chain-of-Thought\n",
    "    * Zero-shot Direct Answering\n",
    "\n",
    "Anthropics Model Family"
   ]
  }
 ],
 "metadata": {
  "language_info": {
   "name": "python"
  },
  "orig_nbformat": 4
 },
 "nbformat": 4,
 "nbformat_minor": 2
}
