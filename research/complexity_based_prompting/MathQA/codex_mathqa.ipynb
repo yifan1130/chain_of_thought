{
 "cells": [
  {
   "cell_type": "markdown",
   "id": "09328cc2-d9bb-4ef8-b6f5-763c5baddb0b",
   "metadata": {},
   "source": [
    "# Codex on MathQA"
   ]
  },
  {
   "cell_type": "code",
   "execution_count": 11,
   "id": "e00089d0-669a-4d27-9fe0-ecdfe6257bbb",
   "metadata": {},
   "outputs": [],
   "source": [
    "import openai\n",
    "import re\n",
    "import json\n",
    "import spacy\n",
    "\n",
    "import numpy as np\n",
    "\n",
    "from tqdm import tqdm\n",
    "from tenacity import retry, stop_after_attempt, wait_chain, wait_fixed "
   ]
  },
  {
   "cell_type": "code",
   "execution_count": 14,
   "id": "495e9f96-85d4-4dc8-932c-5213438d32ba",
   "metadata": {},
   "outputs": [],
   "source": [
    "openai.api_key = \"\" # Hao's API Key"
   ]
  },
  {
   "cell_type": "code",
   "execution_count": 5,
   "id": "7f431544-6713-4e08-9fbc-5227c1d55fd9",
   "metadata": {},
   "outputs": [],
   "source": [
    "test_data = json.load(open('../MathQA/MathQA/test.json'))\n",
    "test_idx = np.load('../MathQA/MathQA/test_idx.npy')\n",
    "test_data = [test_data[i] for i in test_idx]"
   ]
  },
  {
   "cell_type": "code",
   "execution_count": 8,
   "id": "77262c7a-ad5d-4f14-ac35-ce0b50619a86",
   "metadata": {},
   "outputs": [],
   "source": [
    "prompt_complex = open('../MathQA/MathQA/prompt_complex.txt').read()"
   ]
  },
  {
   "cell_type": "code",
   "execution_count": 9,
   "id": "1947a077-77dc-4a1b-811c-ac0bdf8cd3a8",
   "metadata": {
    "collapsed": true,
    "jupyter": {
     "outputs_hidden": true
    },
    "tags": []
   },
   "outputs": [
    {
     "name": "stdout",
     "output_type": "stream",
     "text": [
      "Question: there were 35 students in a hostel . due to the admission of 7 new students the expenses of the mess were increased by rs . 84 per day while the average expenditure per head diminished by re 1 . what was the original expenditure of the mess ?\n",
      "Options: a ) rs 450 , b ) rs 920 , c ) rs 550 , d ) rs . 630 , e ) none of these\n",
      "Let's think step by step\n",
      "let the original average expenditure be rs . x\n",
      "then , 42 ( x - 1 ) - 35 x = 84\\,7 x = 126\n",
      "x = 18\n",
      "therefore original expenditure = rs . ( 35 * 18 ) = rs . 630.\n",
      "The answer is d, rs . 630\n",
      "\n",
      "Question: a train 200 m long passes a man , running at 5 km / hr in the same direction in which the train is going , in 10 seconds . the speed of the train is ?\n",
      "Options: a ) 28 , b ) 50 , c ) 77 , d ) 22 , e ) 12\n",
      "Let's think step by step\n",
      "speed of the train relative to man = ( 200 / 10 ) m / sec = ( 20 ) m / sec.\n",
      "[ ( 20 ) * ( 18 / 5 ) ] km / hr = 72 km / hr.\n",
      "let the speed of the train be x km / hr.\n",
      "then , relative speed = ( x - 5 ) km / hr.\n",
      "x - 5 = 72, x = 77 km / hr .\n",
      "The answer is c, 77\n",
      "\n",
      "Question: solution x contains 20 % of material a and 80 % of material b . solution y contains 30 % of material a and 70 % of material b . a mixture of both these solutions contains 22 % of material a in the final product . how much solution x is present in the mixture ?\n",
      "Options: a ) 40 % , b ) 60 % , c ) 80 % , d ) 100 % , e ) 110 %\n",
      "Let's think step by step\n",
      "we can assume the total weight of the mixture = 100\n",
      "conc of a in the final mixture = 22\n",
      "let weight of a in the mixture be x.\n",
      "conc given = 20% = 0.2\n",
      "therefore , weight of b = 100 - x.\n",
      "conc given = 30% = 0.3\n",
      "now , accordding to the problem, 0.2 x + 0.3 ( 100 - x ) = 22\n",
      "solving , we get x = 80\n",
      "since we assumed the weight of the mixture = 100, therefore presence of a in the mixture = 80%.\n",
      "The answer is c, 80%\n",
      "\n",
      "Question: a trader sells 40 metres of cloth for rs . 8200 at a profit of rs . 35 per metre of cloth . how much profit will the trder earn on 40 metres of cloth ?\n",
      "Options: a ) rs . 950 , b ) rs . 1500 , c ) rs . 1000 , d ) rs . 1400 , e ) none of these\n",
      "Let's think step by step\n",
      "price of 1 metre cloth = 8200 / 40 = rs 205\n",
      "cost of 1 metre cloth = rs 205 – 35 = rs 170\n",
      "cost on 40 metres = 170 x 40 = rs . 6800\n",
      "profit earned on 40 metres cloth = rs . 8200 – rs . 6800 = rs . 1400\n",
      "The answer is d, rs . 1400\n",
      "\n",
      "Question: if x < y < z and y - x > 5 , where x is an even integer and y and z are odd integers , what is the least possible value s of z - x ?\n",
      "Options: a ) 6 , b ) 7 , c ) 8 , d ) 9 , e ) 10\n",
      "Let's think step by step\n",
      "We know x < y < z\n",
      "to find the least possible value for z - x, we need to find the values for z and x that can be closest to each other.\n",
      "if x is some even number, then what could be minimum possible odd z.\n",
      "if x is some even number, y - x > 5 ; y > x + 5\n",
      "minimum value for y = x + 5 + 2 = x + 7\n",
      "(note : x + 5 is as even + odd = odd and nearest odd greater than x + 5 is x + 5 + 2)\n",
      "minimum value for z = y + 2 = x + 7 + 2 = x + 9\n",
      "(note : z = y + 2 because both z and y are odd, difference between two odd numbers is 2)\n",
      "s = z - x = x + 9 - x = 9\n",
      "The answer is d, 9\n",
      "\n",
      "Question: what is the difference between the c . i . on rs . 6000 for 1 1 / 2 years at 4 % per annum compounded yearly and half - yearly ?\n",
      "Options: a ) s . 2.04 , b ) s . 2.08 , c ) s . 2.02 , d ) s . 2.83 , e ) s . 2.45\n",
      "Let's think step by step\n",
      "c . i . when interest is compounded yearly = [ 6000 * ( 1 + 4 / 100 ) * ( 1 + ( 1 / 2 * 4 ) / 100 ] = 6000 * 26 / 25 * 51 / 50 = rs . 6364.8\n",
      "c . i . when interest is compounded half - yearly = [ 6000 * ( 1 + 2 / 100 ) 2 ] = ( 6000 * 51 / 50 * 51 / 50 * 51 / 50 ) = rs . 6367.25\n",
      "difference = ( 6367.25 - 6364.8 ) = rs . 2.45.\n",
      "The answer is e, s . 2.45\n",
      "\n",
      "Question: the average weight of a , b and c is 45 kg . if the average weight of a and b be 40 kg and that of b and c be 45 kg , then the weight of b is :\n",
      "Options: a ) 31 kg , b ) 32 kg , c ) 33 kg , d ) 35 kg , e ) none of these\n",
      "Let's think step by step\n",
      "let a , b , c represent their respective weights.\n",
      "then , we have : a + b + c = ( 45 x 3 ) = 135 … ( i )\n",
      "a + b = ( 40 x 2 ) = 80 … ( ii )\n",
      "b + c = ( 45 x 2 ) = 90 … ( iii )\n",
      "adding ( ii ) and ( iii ), we get : a + 2 b + c = 170 … ( iv )\n",
      "subtracting ( i ) from ( iv ), we get : b = 35.\n",
      "b’ s weight = 35 kg .\n",
      "The answer is d 35 kg\n",
      "\n",
      "Question: the compound and the simple interests on a certain sum at the same rate of interest for two years are rs . 11730 and rs . 10200 respectively . find the sum\n",
      "Options: a ) rs . 17037 , b ) rs . 17000 , c ) rs . 17276 , d ) rs . 170287 , e ) rs . 171881\n",
      "Let's think step by step\n",
      "the simple interest for the first year is 10200 / 2 is rs . 5100\n",
      "and compound interest for first year also is rs . 5100.\n",
      "the compound interest for second year on rs . 5100 for one year\n",
      "so rate of the interest = ( 100 * 1530 ) / ( 5100 * 1 ) = 30% p\n",
      "so p = ( 100 * 10200 ) / ( 30 * 2 ) = rs . 17000\n",
      "The answer is b, rs . 17000\n",
      "\n"
     ]
    }
   ],
   "source": [
    "print(prompt_complex)"
   ]
  },
  {
   "cell_type": "code",
   "execution_count": 12,
   "id": "cd16d982-09ba-4cbe-96d1-92e112aea113",
   "metadata": {},
   "outputs": [],
   "source": [
    "def extract_ans(ans_model):\n",
    "    ans_model = ans_model.split('\\n')\n",
    "    ans = []\n",
    "    residual = []\n",
    "    for li, al in enumerate(ans_model):\n",
    "        ans.append(al)\n",
    "        if('answer is' in al):\n",
    "            break\n",
    "    residual = list(ans_model[li + 1:])\n",
    "    ans = '\\n'.join(ans)\n",
    "    residual = '\\n'.join(residual)\n",
    "    return ans, residual\n",
    "\n",
    "@retry(wait=wait_chain(*[wait_fixed(3) for i in range(3)] +\n",
    "                       [wait_fixed(5) for i in range(2)] +\n",
    "                       [wait_fixed(10)]))\n",
    "def completion_with_backoff(**kwargs):\n",
    "    return openai.Completion.create(**kwargs)\n",
    "\n",
    "def test_answer(pred_str, ans_str):\n",
    "    \"\"\"Find the last number as the predicted answer\"\"\"\n",
    "    pattern = '\\d*\\.?\\d+'\n",
    "    pred = re.findall(pattern, pred_str)\n",
    "    if(len(pred) >= 1):\n",
    "        # print(pred_str)\n",
    "        pred = pred[-1]\n",
    "        gold = re.findall(pattern, ans_str)\n",
    "        # print(ans_str)\n",
    "        gold = gold[-1]\n",
    "        return pred == gold\n",
    "    else: return False\n",
    "\n",
    "def get_ans_dict(c):\n",
    "    if(c.startswith(\"['\")):\n",
    "        c_ = eval(c)\n",
    "        ans_dict = {}\n",
    "        for ac in c_:\n",
    "            idx_, num_ = ac.split(' ) ')[-2:]\n",
    "            if('a' in idx_): ans_dict['a'] = num_\n",
    "            if('b' in idx_): ans_dict['b'] = num_\n",
    "            if('c' in idx_): ans_dict['c'] = num_\n",
    "            if('d' in idx_): ans_dict['d'] = num_\n",
    "            if('e' in idx_): ans_dict['e'] = num_\n",
    "    else:\n",
    "        ans_dict = {}\n",
    "        pattern = ' , [a-e] \\) '\n",
    "        c_ = re.split(pattern, c)\n",
    "        c_[0] = c_[0].split(' ) ')[-1]\n",
    "        for i, c in zip(['a', 'b', 'c', 'd', 'e'], c_):\n",
    "            ans_dict[i] = c\n",
    "    return ans_dict\n",
    "\n",
    "def parse_pred_ans(filename):\n",
    "    with open(filename) as fd: lines = fd.readlines()\n",
    "    am, a = None, None\n",
    "    num_q, acc = 0, 0\n",
    "    current_mode = 'none'\n",
    "    questions = []\n",
    "    ans_pred = []\n",
    "    ans_gold = []\n",
    "    for l in lines:\n",
    "        if(l.startswith('Question: ')):\n",
    "            if(am is not None and a is not None):\n",
    "                questions.append(q)\n",
    "                ans_pred.append(am)\n",
    "                ans_gold.append(a)\n",
    "                if(test_answer(am, a)):\n",
    "                    acc += 1\n",
    "            current_mode = 'q'\n",
    "            q = l\n",
    "            num_q += 1\n",
    "        elif(l.startswith('Options: ')): pass\n",
    "        elif(l.startswith('A_model:')):\n",
    "            current_mode = 'am'\n",
    "            am = l\n",
    "        elif(l.startswith('A:')):\n",
    "            current_mode = 'a'\n",
    "            a = l\n",
    "        else:\n",
    "            if(current_mode == 'q'): q += l\n",
    "            elif(current_mode == 'am'): am += l\n",
    "            elif(current_mode == 'a'): a += l\n",
    "            else:\n",
    "                raise ValueError(current_mode)\n",
    "                \n",
    "    questions.append(q)\n",
    "    ans_pred.append(am)\n",
    "    ans_gold.append(a)\n",
    "    if(test_answer(am, a)):\n",
    "        acc += 1\n",
    "    print('num_q %d correct %d ratio %.4f' % (num_q, acc, float(acc / num_q)))\n",
    "    return questions, ans_pred, ans_gold"
   ]
  },
  {
   "cell_type": "markdown",
   "id": "aaf93d6f-80a7-467b-96f7-14b4f851ee8f",
   "metadata": {},
   "source": [
    "# Complex Prompt"
   ]
  },
  {
   "cell_type": "code",
   "execution_count": 24,
   "id": "cd79b097-ec52-49b0-b460-29cf640c21a5",
   "metadata": {
    "tags": []
   },
   "outputs": [
    {
     "name": "stderr",
     "output_type": "stream",
     "text": [
      "100%|████████████████████████████████████████████████████████████████████████████████████████████████████████████████████████████████| 600/600 [1:55:14<00:00, 11.52s/it]\n"
     ]
    }
   ],
   "source": [
    "with open('outputs/mathqa/test_codex_complex.txt', 'w') as fd:\n",
    "    for case in tqdm(test_data):\n",
    "        q = case['Problem']\n",
    "        c = case['options']\n",
    "        a = case['Rationale']\n",
    "        cr = case['correct']\n",
    "    \n",
    "        ans_dict = get_ans_dict(c)\n",
    "            \n",
    "        a += ' ' + ans_dict[cr]\n",
    "        \n",
    "        prompt_q = '' \n",
    "        prompt_q += 'Question: ' + q + '\\n'\n",
    "        prompt_q += 'Options: ' + c + '\\n'\n",
    "        prompt_q += \"Let's think step by step\\n\"\n",
    "        \n",
    "        prompt_full = ''.join(prompt_complex) + prompt_q\n",
    "        response = completion_with_backoff(model=\"code-davinci-002\", \n",
    "                                            prompt=prompt_full, \n",
    "                                            temperature=0, \n",
    "                                            max_tokens=256)\n",
    "        \n",
    "        ans_model, _ = extract_ans(response['choices'][0]['text'])\n",
    "        fd.write('%sA_model:\\n%s\\nA:\\n%s\\n\\n' % (prompt_q, ans_model, a))"
   ]
  },
  {
   "cell_type": "code",
   "execution_count": 25,
   "id": "1ba2c9c5-c3f9-44d5-a2b1-c4c89d65200f",
   "metadata": {},
   "outputs": [
    {
     "name": "stdout",
     "output_type": "stream",
     "text": [
      "num_q 600 correct 284 ratio 0.4733\n"
     ]
    }
   ],
   "source": [
    "_, _, _ = parse_pred_ans('outputs/mathqa/test_codex_complex.txt')"
   ]
  },
  {
   "cell_type": "markdown",
   "id": "cd06aeeb-98c1-430f-ae3f-87884afc233a",
   "metadata": {},
   "source": [
    "# Original Prompt"
   ]
  },
  {
   "cell_type": "code",
   "execution_count": 19,
   "id": "eeae40ff-2b17-419b-bfbe-1a8e974f3dbe",
   "metadata": {},
   "outputs": [],
   "source": [
    "prompt_original = open('../MathQA/MathQA/prompt_original.txt').read()"
   ]
  },
  {
   "cell_type": "code",
   "execution_count": 20,
   "id": "16d73ece-968d-4462-928f-d96412482cfc",
   "metadata": {
    "collapsed": true,
    "jupyter": {
     "outputs_hidden": true
    },
    "tags": []
   },
   "outputs": [
    {
     "name": "stdout",
     "output_type": "stream",
     "text": [
      "Question: There are 15 trees in the grove. Grove workers will plant trees in the grove today. After they are done, there will be 21 trees. How many trees did the grove workers plant today?\n",
      "Options: a ) 3 , b ) 5 , c ) 6 , d ) 10 , e ) none of these\n",
      "Let's think step by step\n",
      "There are 15 trees originally.\n",
      "Then there were 21 trees after some more were planted.\n",
      "So there must have been 21 - 15 = 6.\n",
      "The answer is c, 6.\n",
      "\n",
      "Question: If there are 3 cars in the parking lot and 2 more cars arrive, how many cars are in the parking lot?\n",
      "Let's think step by step\n",
      "Options: a ) 3 , b ) 5 , c ) 6 , d ) 10 , e ) none of these\n",
      "There are originally 3 cars.\n",
      "2 more cars arrive.\n",
      "3 + 2 = 5.\n",
      "The answer is b, 5.\n",
      "\n",
      "Question: Leah had 32 chocolates and her sister had 42. If they ate 35, how many pieces do they have left in total?\n",
      "Options: a ) 39 , b ) 5 , c ) 28 , d ) 37 , e ) 33\n",
      "Let's think step by step\n",
      "Originally, Leah had 32 chocolates.\n",
      "Her sister had 42.\n",
      "So in total they had 32 + 42 = 74.\n",
      "After eating 35, they had 74 - 35 = 39.\n",
      "The answer is a, 39.\n",
      "\n",
      "Question: Jason had 20 lollipops. He gave Denny some lollipops. Now Jason has 12 lollipops. How many lollipops did Jason give to Denny?\n",
      "Options: a ) 3 , b ) 5 , c ) 6 , d ) 8 , e ) none of these\n",
      "Let's think step by step\n",
      "Jason started with 20 lollipops.\n",
      "Then he had 12 after giving some to Denny.\n",
      "So he gave Denny 20 - 12 = 8.\n",
      "The answer is d, 8.\n",
      "\n",
      "Question: Shawn has five toys. For Christmas, he got two toys each from his mom and dad. How many toys does he have now?\n",
      "Options: a ) 3 , b ) 5 , c ) 6 , d ) 9 , e ) none of these\n",
      "Let's think step by step\n",
      "Shawn started with 5 toys.\n",
      "If he got 2 toys each from his mom and dad, then that is 4 more toys.\n",
      "5 + 4 = 9.\n",
      "The answer is d, 9.\n",
      "\n",
      "Question: There were nine computers in the server room. Five more computers were installed each day, from monday to thursday. How many computers are now in the server room?\n",
      "Options: a ) 31 , b ) 29 , c ) 67 , d ) 18 , e ) none of these\n",
      "Let's think step by step\n",
      "There were originally 9 computers.\n",
      "For each of 4 days, 5 more computers were added.\n",
      "So 5 * 4 = 20 computers were added.\n",
      "9 + 20 is 29.\n",
      "The answer is b, 29.\n",
      "\n",
      "Question: Michael had 58 golf balls. On tuesday, he lost 23 golf balls. On wednesday, he lost 2 more. How many golf balls did he have at the end of wednesday?\n",
      "Options: a ) 33 , b ) 50 , c ) 66 , d ) 10 , e ) 18\n",
      "Let's think step by step\n",
      "Michael started with 58 golf balls.\n",
      "After losing 23 on tues- day, he had 58 - 23 = 35.\n",
      "After losing 2 more, he had 35 - 2 = 33 golf balls.\n",
      "The answer is a, 33.\n",
      "\n",
      "Question: Olivia has $23. She bought five bagels for $3 each. How much money does she have left?\n",
      "Let's think step by step\n",
      "Options: a ) 3 , b ) 5 , c ) 8 , d ) 10 , e ) none of these\n",
      "Olivia had 23 dollars.\n",
      "5 bagels for 3 dollars each will be 5 x 3 = 15 dollars.\n",
      "So she has 23 - 15 dollars left.\n",
      "23 - 15 is 8.\n",
      "The answer is c, 8.\n",
      "\n"
     ]
    }
   ],
   "source": [
    "print(prompt_original)"
   ]
  },
  {
   "cell_type": "code",
   "execution_count": 26,
   "id": "0b52e11e-81d9-4463-a1e1-d7d7e9d9b3b4",
   "metadata": {
    "tags": []
   },
   "outputs": [
    {
     "name": "stderr",
     "output_type": "stream",
     "text": [
      "100%|████████████████████████████████████████████████████████████████████████████████████████████████████████████████████████████████| 600/600 [2:09:10<00:00, 12.92s/it]\n"
     ]
    }
   ],
   "source": [
    "with open('outputs/mathqa/test_codex_original.txt', 'w') as fd:\n",
    "    for case in tqdm(test_data):\n",
    "        q = case['Problem']\n",
    "        c = case['options']\n",
    "        a = case['Rationale']\n",
    "        cr = case['correct']\n",
    "    \n",
    "        ans_dict = get_ans_dict(c)\n",
    "            \n",
    "        a += ' ' + ans_dict[cr]\n",
    "        \n",
    "        prompt_q = '' \n",
    "        prompt_q += 'Question: ' + q + '\\n'\n",
    "        prompt_q += 'Options: ' + c + '\\n'\n",
    "        prompt_q += \"Let's think step by step\\n\"\n",
    "        \n",
    "        prompt_full = ''.join(prompt_original) + prompt_q\n",
    "        response = completion_with_backoff(model=\"code-davinci-002\", \n",
    "                                            prompt=prompt_full, \n",
    "                                            temperature=0, \n",
    "                                            max_tokens=256)\n",
    "        \n",
    "        ans_model, _ = extract_ans(response['choices'][0]['text'])\n",
    "        fd.write('%sA_model:\\n%s\\nA:\\n%s\\n\\n' % (prompt_q, ans_model, a))"
   ]
  },
  {
   "cell_type": "code",
   "execution_count": 27,
   "id": "61f5dfb4-eb0e-482c-b62e-4f924ef51a60",
   "metadata": {},
   "outputs": [
    {
     "name": "stdout",
     "output_type": "stream",
     "text": [
      "num_q 665 correct 195 ratio 0.2932\n"
     ]
    }
   ],
   "source": [
    "_, _, _ = parse_pred_ans('outputs/mathqa/test_codex_original.txt')"
   ]
  },
  {
   "cell_type": "markdown",
   "id": "62bac355-68cc-42a1-b898-0039a61cfb0b",
   "metadata": {},
   "source": [
    "# Random Prompt"
   ]
  },
  {
   "cell_type": "code",
   "execution_count": 22,
   "id": "e5ed8b7d-9105-4bdc-89d6-a1db48042d9a",
   "metadata": {},
   "outputs": [],
   "source": [
    "prompt_random = open('../MathQA/MathQA/prompt_random.txt').read()"
   ]
  },
  {
   "cell_type": "code",
   "execution_count": 28,
   "id": "a9f65bb3-78f1-47bd-b778-f2265bade463",
   "metadata": {
    "tags": []
   },
   "outputs": [
    {
     "name": "stderr",
     "output_type": "stream",
     "text": [
      "100%|████████████████████████████████████████████████████████████████████████████████████████████████████████████████████████████████| 600/600 [1:44:11<00:00, 10.42s/it]\n"
     ]
    }
   ],
   "source": [
    "with open('outputs/mathqa/test_codex_random.txt', 'w') as fd:\n",
    "    for case in tqdm(test_data):\n",
    "        q = case['Problem']\n",
    "        c = case['options']\n",
    "        a = case['Rationale']\n",
    "        cr = case['correct']\n",
    "    \n",
    "        ans_dict = get_ans_dict(c)\n",
    "            \n",
    "        a += ' ' + ans_dict[cr]\n",
    "        \n",
    "        prompt_q = '' \n",
    "        prompt_q += 'Question: ' + q + '\\n'\n",
    "        prompt_q += 'Options: ' + c + '\\n'\n",
    "        prompt_q += \"Let's think step by step\\n\"\n",
    "        \n",
    "        prompt_full = ''.join(prompt_random) + prompt_q\n",
    "        response = completion_with_backoff(model=\"code-davinci-002\", \n",
    "                                            prompt=prompt_full, \n",
    "                                            temperature=0, \n",
    "                                            max_tokens=256)\n",
    "        \n",
    "        ans_model, _ = extract_ans(response['choices'][0]['text'])\n",
    "        fd.write('%sA_model:\\n%s\\nA:\\n%s\\n\\n' % (prompt_q, ans_model, a))"
   ]
  },
  {
   "cell_type": "code",
   "execution_count": 29,
   "id": "184a0656-8036-4df9-acee-569df8342663",
   "metadata": {},
   "outputs": [
    {
     "name": "stdout",
     "output_type": "stream",
     "text": [
      "num_q 600 correct 243 ratio 0.4050\n"
     ]
    }
   ],
   "source": [
    "_, _, _ = parse_pred_ans('outputs/mathqa/test_codex_random.txt')"
   ]
  }
 ],
 "metadata": {
  "kernelspec": {
   "display_name": "Python 3 (ipykernel)",
   "language": "python",
   "name": "python3"
  },
  "language_info": {
   "codemirror_mode": {
    "name": "ipython",
    "version": 3
   },
   "file_extension": ".py",
   "mimetype": "text/x-python",
   "name": "python",
   "nbconvert_exporter": "python",
   "pygments_lexer": "ipython3",
   "version": "3.10.10"
  }
 },
 "nbformat": 4,
 "nbformat_minor": 5
}
