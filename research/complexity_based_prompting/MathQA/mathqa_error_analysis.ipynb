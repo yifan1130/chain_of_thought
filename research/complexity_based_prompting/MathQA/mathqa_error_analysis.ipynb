{
 "cells": [
  {
   "cell_type": "markdown",
   "id": "83309a50-707c-4cec-ba5a-095333293b07",
   "metadata": {},
   "source": [
    "# MathQA Error Analysis"
   ]
  },
  {
   "cell_type": "code",
   "execution_count": 9,
   "id": "fac679ab-d5eb-40d8-806e-d72f9ab9d57d",
   "metadata": {},
   "outputs": [],
   "source": [
    "import numpy as np\n",
    "import re\n",
    "import spacy"
   ]
  },
  {
   "cell_type": "code",
   "execution_count": 32,
   "id": "95c273c8-4fb5-46aa-9fdd-59253de7f5f9",
   "metadata": {},
   "outputs": [],
   "source": [
    "import matplotlib.pyplot as plt\n",
    "import matplotlib \n",
    "\n",
    "matplotlib.rcParams['figure.dpi'] = 200\n",
    "matplotlib.rcParams['figure.figsize'] = (4.5, 2.5)"
   ]
  },
  {
   "cell_type": "code",
   "execution_count": 3,
   "id": "997c3df8-be6b-4479-9702-8b328ee0e8b0",
   "metadata": {},
   "outputs": [],
   "source": [
    "%matplotlib inline"
   ]
  },
  {
   "cell_type": "code",
   "execution_count": 11,
   "id": "bf4313ec-0417-406f-a97c-eee511700fde",
   "metadata": {},
   "outputs": [],
   "source": [
    "nlp = spacy.load(\"en_core_web_sm\")"
   ]
  },
  {
   "cell_type": "code",
   "execution_count": 10,
   "id": "35670ad3-7a9d-400f-b6d8-8e651bea46bf",
   "metadata": {},
   "outputs": [],
   "source": [
    "def get_step(sent):\n",
    "    doc = nlp(sent)\n",
    "    n_step = len(list(s for s in doc.sents))\n",
    "    return n_step\n",
    "\n",
    "def test_answer(pred_str, ans_str):\n",
    "    \"\"\"Find the last number as the predicted answer\"\"\"\n",
    "    pattern = '\\d*\\.?\\d+'\n",
    "    pred = re.findall(pattern, pred_str)\n",
    "    if(len(pred) >= 1):\n",
    "        # print(pred_str)\n",
    "        pred = pred[-1]\n",
    "        gold = re.findall(pattern, ans_str)\n",
    "        # print(ans_str)\n",
    "        gold = gold[-1]\n",
    "        return pred == gold\n",
    "    else: return False\n",
    "\n",
    "def parse_pred_ans(filename):\n",
    "    with open(filename) as fd: lines = fd.readlines()\n",
    "    am, a = None, None\n",
    "    num_q, acc = 0, 0\n",
    "    current_mode = 'none'\n",
    "    questions = []\n",
    "    ans_pred = []\n",
    "    ans_gold = []\n",
    "    labels = []\n",
    "    for l in lines:\n",
    "        if(l.startswith('Question: ')):\n",
    "            if(am is not None and a is not None):\n",
    "                questions.append(q)\n",
    "                ans_pred.append(am)\n",
    "                ans_gold.append(a)\n",
    "                if(test_answer(am, a)):\n",
    "                    acc += 1\n",
    "                    labels.append(1)\n",
    "                else: labels.append(0)\n",
    "            current_mode = 'q'\n",
    "            q = l\n",
    "            num_q += 1\n",
    "        elif(l.startswith('Options: ')): pass\n",
    "        elif(l.startswith('A_model:')):\n",
    "            current_mode = 'am'\n",
    "            am = l\n",
    "        elif(l.startswith('A:')):\n",
    "            current_mode = 'a'\n",
    "            a = l\n",
    "        else:\n",
    "            if(current_mode == 'q'): q += l\n",
    "            elif(current_mode == 'am'): am += l\n",
    "            elif(current_mode == 'a'): a += l\n",
    "            else:\n",
    "                raise ValueError(current_mode)\n",
    "                \n",
    "    questions.append(q)\n",
    "    ans_pred.append(am)\n",
    "    ans_gold.append(a)\n",
    "    if(test_answer(am, a)):\n",
    "        acc += 1\n",
    "        labels.append(1)\n",
    "    else: labels.append(0)\n",
    "    print('num_q %d correct %d ratio %.4f' % (num_q, acc, float(acc / num_q)))\n",
    "    return questions, ans_pred, ans_gold, labels"
   ]
  },
  {
   "cell_type": "code",
   "execution_count": 18,
   "id": "c3dc4267-7a52-46a1-82ba-5d3473fdebca",
   "metadata": {},
   "outputs": [
    {
     "name": "stdout",
     "output_type": "stream",
     "text": [
      "num_q 200 correct 68 ratio 0.3400\n"
     ]
    }
   ],
   "source": [
    "questions, ans_easy_pred, ans_easy_gold, easy_label = parse_pred_ans('outputs/dev_outputs_coht_easier_1_lb.txt')"
   ]
  },
  {
   "cell_type": "code",
   "execution_count": 8,
   "id": "a1097a39-fbe1-4b79-9d51-6f89ee3be636",
   "metadata": {},
   "outputs": [
    {
     "data": {
      "text/plain": [
       "['A:',\n",
       " '\"distance from a and b be \\' d \\' average speed = total distance / total time average speed = ( 2 d ) / [ ( d / 20 ) + ( d / 30 ) ] = ( 2 d ) / [ 5 d / 60 ) = > 24 kmph . answer : b\" 24 ',\n",
       " '',\n",
       " '']"
      ]
     },
     "execution_count": 8,
     "metadata": {},
     "output_type": "execute_result"
    }
   ],
   "source": [
    "ans_easy_gold[0].split('\\n')"
   ]
  },
  {
   "cell_type": "code",
   "execution_count": 12,
   "id": "8cd65159-23d9-4155-a194-852478d7d80b",
   "metadata": {},
   "outputs": [
    {
     "data": {
      "text/plain": [
       "4"
      ]
     },
     "execution_count": 12,
     "metadata": {},
     "output_type": "execute_result"
    }
   ],
   "source": [
    "get_step(ans_easy_gold[0].split('\\n')[1])"
   ]
  },
  {
   "cell_type": "code",
   "execution_count": 13,
   "id": "fddeb709-fb86-4006-8afc-82ca81d0b42e",
   "metadata": {},
   "outputs": [],
   "source": [
    "easy_acc_dist = {}\n",
    "for a, y in zip(ans_easy_gold, easy_label):\n",
    "    a = a.split('\\n')\n",
    "    a_len = get_step(a[1])\n",
    "    if(a_len in easy_acc_dist):\n",
    "        easy_acc_dist[a_len][0] += y\n",
    "        easy_acc_dist[a_len][1] += 1\n",
    "    else: \n",
    "        easy_acc_dist[a_len] = [y, 1]"
   ]
  },
  {
   "cell_type": "code",
   "execution_count": 14,
   "id": "5a5c7fef-d9ca-42d4-9a79-3536a1caf401",
   "metadata": {
    "collapsed": true,
    "jupyter": {
     "outputs_hidden": true
    },
    "tags": []
   },
   "outputs": [
    {
     "data": {
      "text/plain": [
       "{4: [8, 20],\n",
       " 5: [6, 20],\n",
       " 3: [14, 37],\n",
       " 2: [11, 37],\n",
       " 7: [5, 9],\n",
       " 1: [18, 46],\n",
       " 6: [3, 11],\n",
       " 16: [0, 1],\n",
       " 11: [1, 2],\n",
       " 9: [0, 3],\n",
       " 10: [0, 2],\n",
       " 8: [1, 6],\n",
       " 12: [0, 3],\n",
       " 18: [0, 1],\n",
       " 21: [1, 2]}"
      ]
     },
     "execution_count": 14,
     "metadata": {},
     "output_type": "execute_result"
    }
   ],
   "source": [
    "easy_acc_dist"
   ]
  },
  {
   "cell_type": "code",
   "execution_count": 17,
   "id": "a06df496-63b7-48d9-b4a8-84dff4dc8eae",
   "metadata": {},
   "outputs": [
    {
     "name": "stdout",
     "output_type": "stream",
     "text": [
      "num_q 200 correct 85 ratio 0.4250\n"
     ]
    }
   ],
   "source": [
    "questions, ans_hard_pred, ans_hard_gold, hard_label = parse_pred_ans('outputs/dev_outputs_coht_mid_1_lb.txt')"
   ]
  },
  {
   "cell_type": "code",
   "execution_count": 19,
   "id": "6d76df28-5257-467c-a7ec-03f14f904e9f",
   "metadata": {},
   "outputs": [],
   "source": [
    "hard_acc_dist = {}\n",
    "for a, y in zip(ans_hard_gold, hard_label):\n",
    "    a = a.split('\\n')\n",
    "    a_len = get_step(a[1])\n",
    "    if(a_len in hard_acc_dist):\n",
    "        hard_acc_dist[a_len][0] += y\n",
    "        hard_acc_dist[a_len][1] += 1\n",
    "    else: \n",
    "        hard_acc_dist[a_len] = [y, 1]"
   ]
  },
  {
   "cell_type": "code",
   "execution_count": 20,
   "id": "30966f88-08bb-4fc7-b76e-e84ee92c62e7",
   "metadata": {
    "collapsed": true,
    "jupyter": {
     "outputs_hidden": true
    },
    "tags": []
   },
   "outputs": [
    {
     "data": {
      "text/plain": [
       "{4: [10, 20],\n",
       " 5: [6, 20],\n",
       " 3: [14, 37],\n",
       " 2: [15, 37],\n",
       " 7: [6, 9],\n",
       " 1: [23, 46],\n",
       " 6: [5, 11],\n",
       " 16: [0, 1],\n",
       " 11: [2, 2],\n",
       " 9: [1, 3],\n",
       " 10: [0, 2],\n",
       " 8: [2, 6],\n",
       " 12: [0, 3],\n",
       " 18: [0, 1],\n",
       " 21: [1, 2]}"
      ]
     },
     "execution_count": 20,
     "metadata": {},
     "output_type": "execute_result"
    }
   ],
   "source": [
    "hard_acc_dist"
   ]
  },
  {
   "cell_type": "code",
   "execution_count": 21,
   "id": "f445fd42-729a-4d60-8bda-e720e488da24",
   "metadata": {},
   "outputs": [],
   "source": [
    "x = [1, 2, 3, 4, 5, 6, 7, 8, 9, 10]\n",
    "easy_correct = [easy_acc_dist[xi][0] for xi in x]\n",
    "hard_correct = [hard_acc_dist[xi][0] for xi in x]\n",
    "total = [hard_acc_dist[xi][1] for xi in x]\n",
    "for xi in x:\n",
    "    if(xi > 10):\n",
    "        easy_correct[-1] += easy_acc_dist[xi][0]\n",
    "        hard_correct[-1] += hard_acc_dist[xi][0]\n",
    "        total[-1] += hard_acc_dist[xi][1]"
   ]
  },
  {
   "cell_type": "code",
   "execution_count": 33,
   "id": "075084ff-a701-475d-a053-f3586115c3ad",
   "metadata": {},
   "outputs": [
    {
     "data": {
      "text/plain": [
       "<matplotlib.legend.Legend at 0x7f9699fc2130>"
      ]
     },
     "execution_count": 33,
     "metadata": {},
     "output_type": "execute_result"
    },
    {
     "data": {
      "image/png": "[encoded data removed]",
      "text/plain": [
       "<Figure size 900x500 with 1 Axes>"
      ]
     },
     "metadata": {
      "needs_background": "light"
     },
     "output_type": "display_data"
    }
   ],
   "source": [
    "plt.bar(np.array(x), total, width=0.6, color='lightgrey', label='total cases')\n",
    "plt.bar(np.array(x)-0.15, easy_correct, width=0.3, color='lightcoral', label='correct w. simple prompt')\n",
    "plt.bar(np.array(x)+0.15, hard_correct, width=0.3, color='steelblue', label='correct w. complex prompt')\n",
    "plt.legend()"
   ]
  }
 ],
 "metadata": {
  "kernelspec": {
   "display_name": "Python 3 (ipykernel)",
   "language": "python",
   "name": "python3"
  },
  "language_info": {
   "codemirror_mode": {
    "name": "ipython",
    "version": 3
   },
   "file_extension": ".py",
   "mimetype": "text/x-python",
   "name": "python",
   "nbconvert_exporter": "python",
   "pygments_lexer": "ipython3",
   "version": "3.8.13"
  }
 },
 "nbformat": 4,
 "nbformat_minor": 5
}
